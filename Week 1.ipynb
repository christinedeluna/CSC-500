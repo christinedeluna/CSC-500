{
 "cells": [
  {
   "cell_type": "code",
   "execution_count": 17,
   "id": "22106ca5-9dd1-47a3-bb35-4bcde5eccdcf",
   "metadata": {
    "scrolled": true
   },
   "outputs": [
    {
     "name": "stdout",
     "output_type": "stream",
     "text": [
      "The sum of the numbers is: 73\n",
      "The difference of the numbers is: 27\n"
     ]
    }
   ],
   "source": [
    "#Christine DeLuna\n",
    "#CS500 Week 1 Critial Thinking Assigment \n",
    "#January 13, 2025\n",
    "\n",
    "\n",
    "#Part 1\n",
    "\n",
    "# Code using proxy numbers 50 and 23\n",
    "\n",
    "# Define the first number\n",
    "number1 = 50\n",
    "\n",
    "# Define the second number\n",
    "number2 = 23\n",
    "\n",
    "# Calculate the sum of the numbers\n",
    "sum_result = number1 + number2\n",
    "print(\"The sum of the numbers is:\", sum_result)\n",
    "\n",
    "# Calculate the difference of the numbers\n",
    "difference_result = number1 - number2\n",
    "print(\"The difference of the numbers is:\", difference_result)\n",
    "\n",
    "\n"
   ]
  },
  {
   "cell_type": "code",
   "execution_count": 11,
   "id": "7a2ef288-8c80-443e-8323-4eafc48bcede",
   "metadata": {},
   "outputs": [
    {
     "name": "stdout",
     "output_type": "stream",
     "text": [
      "The product of the numbers is: 30000\n",
      "The quotient of the numbers is: 0.75\n"
     ]
    }
   ],
   "source": [
    "#Part 2\n",
    "\n",
    "# Use proxy numbers 150 and 200\n",
    "\n",
    "# Define the first number\n",
    "number1 = 150\n",
    "\n",
    "# Define the second number\n",
    "number2 = 200\n",
    "\n",
    "# Calculate the product of the numbers\n",
    "product = number1 * number2\n",
    "print(\"The product of the numbers is:\", product)\n",
    "\n",
    "# Check if the second number is not zero before division\n",
    "if number2 != 0:\n",
    "    quotient = number1 / number2\n",
    "    print(\"The quotient of the numbers is:\", quotient)\n",
    "else:\n",
    "    print(\"Division by zero is not allowed.\")\n",
    "\n"
   ]
  },
  {
   "cell_type": "code",
   "execution_count": null,
   "id": "55d92ab9-8424-44b4-b5b7-d5ac58cd5048",
   "metadata": {},
   "outputs": [],
   "source": []
  }
 ],
 "metadata": {
  "kernelspec": {
   "display_name": "Python [conda env:base] *",
   "language": "python",
   "name": "conda-base-py"
  },
  "language_info": {
   "codemirror_mode": {
    "name": "ipython",
    "version": 3
   },
   "file_extension": ".py",
   "mimetype": "text/x-python",
   "name": "python",
   "nbconvert_exporter": "python",
   "pygments_lexer": "ipython3",
   "version": "3.12.7"
  }
 },
 "nbformat": 4,
 "nbformat_minor": 5
}
